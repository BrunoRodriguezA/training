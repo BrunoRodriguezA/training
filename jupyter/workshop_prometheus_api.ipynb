{
 "cells": [
  {
   "cell_type": "markdown",
   "id": "3f59eb29",
   "metadata": {},
   "source": [
    "\n",
    "# Workshop: Consumir la API de Prometheus con Python + `requests` + `pandas`\n",
    "\n",
    "**Objetivo:** aprender un patrón limpio para:\n",
    "1. Autenticarnos y consultar endpoints de Prometheus.  \n",
    "2. Convertir la respuesta JSON a `DataFrame`.  \n",
    "3. \"Parsear\" campos anidados (como `labels`) para análisis/tablas.  \n",
    "\n",
    "> Todas las celdas incluyen *buenas prácticas* (nomenclatura, manejo de errores, tiempos de espera, etc.).\n"
   ]
  },
  {
   "cell_type": "markdown",
   "id": "88e6a3cd",
   "metadata": {},
   "source": [
    "\n",
    "## 0) Requisitos y consideraciones\n",
    "\n",
    "- Python 3.10+  \n",
    "- Librerías: `requests`, `pandas`  \n",
    "- Credenciales **vía variables de entorno** (evitar hardcodear passwords):  \n",
    "  - `PROM_USER`\n",
    "  - `PROM_PASS`\n",
    "  - `PROM_BASE_URL` (ej.: `http://10.0.0.1:9090`)\n",
    "\n",
    "Si tu Prometheus usa HTTPS con certificado propio, puedes poner `VERIFY_TLS=False` para desactivar la verificación (solo si entiendes el riesgo).\n"
   ]
  },
  {
   "cell_type": "code",
   "execution_count": null,
   "id": "cc518cfe",
   "metadata": {},
   "outputs": [],
   "source": [
    "\n",
    "# 1) Imports\n",
    "# -------------------------------------------------------------\n",
    "from __future__ import annotations\n",
    "\n",
    "import os\n",
    "import json\n",
    "from typing import Any, Dict\n",
    "\n",
    "import requests\n",
    "from requests import Session\n",
    "from requests.auth import HTTPBasicAuth\n",
    "from requests.exceptions import RequestException, Timeout\n",
    "\n",
    "import pandas as pd\n",
    "\n",
    "# Opcional: suprimir warnings SOLO si VERIFY_TLS es False (riesgo de MITM)\n",
    "import urllib3\n",
    "VERIFY_TLS = os.getenv(\"VERIFY_TLS\", \"true\").lower() == \"true\"\n",
    "if not VERIFY_TLS:\n",
    "    urllib3.disable_warnings(urllib3.exceptions.InsecureRequestWarning)\n"
   ]
  },
  {
   "cell_type": "code",
   "execution_count": null,
   "id": "8e9d86df",
   "metadata": {},
   "outputs": [],
   "source": [
    "\n",
    "# 2) Configuración (usa variables de entorno) \n",
    "# -------------------------------------------------------------\n",
    "PROM_USER = os.getenv(\"PROM_USER\")\n",
    "PROM_PASS = os.getenv(\"PROM_PASS\")\n",
    "PROM_BASE_URL = os.getenv(\"PROM_BASE_URL\")  # p.ej. \"http://10.88.66.133:9090\"\n",
    "\n",
    "if not PROM_USER or not PROM_PASS or not PROM_BASE_URL:\n",
    "    raise RuntimeError(\n",
    "        \"Faltan variables de entorno: PROM_USER, PROM_PASS y/o PROM_BASE_URL\"\n",
    "    )\n",
    "\n",
    "ENDPOINT_TARGETS = f\"{PROM_BASE_URL}/api/v1/targets\"\n",
    "\n",
    "DEFAULT_TIMEOUT = (5, 20)  # (connect_timeout, read_timeout) en segundos\n"
   ]
  },
  {
   "cell_type": "code",
   "execution_count": null,
   "id": "33aef37f",
   "metadata": {},
   "outputs": [],
   "source": [
    "\n",
    "# 3) Helpers HTTP\n",
    "# -------------------------------------------------------------\n",
    "def build_session(user: str, password: str, verify_tls: bool = True) -> Session:\n",
    "    \"\"\"Construye una requests.Session con autenticación básica y headers estándar.\"\"\"\n",
    "    s = requests.Session()\n",
    "    s.auth = HTTPBasicAuth(user, password)\n",
    "    s.headers.update({\n",
    "        \"Accept\": \"application/json\",\n",
    "        \"User-Agent\": \"prom-workshop/1.0\"\n",
    "    })\n",
    "    s.verify = verify_tls\n",
    "    return s\n",
    "\n",
    "\n",
    "def get_json(session: Session, url: str, timeout: tuple[int, int] = DEFAULT_TIMEOUT) -> Dict[str, Any]:\n",
    "    \"\"\"Hace GET y devuelve JSON ya validado. Lanza errores claros si algo falla.\"\"\"\n",
    "    try:\n",
    "        resp = session.get(url, timeout=timeout)\n",
    "        resp.raise_for_status()\n",
    "        data = resp.json()\n",
    "    except Timeout as exc:\n",
    "        raise Timeout(f\"Timeout al consultar {url}: {exc}\") from exc\n",
    "    except RequestException as exc:\n",
    "        raise RuntimeError(f\"Error de red al consultar {url}: {exc}\") from exc\n",
    "    except ValueError as exc:\n",
    "        raise RuntimeError(f\"Respuesta no es JSON válido desde {url}: {exc}\") from exc\n",
    "\n",
    "    if not isinstance(data, dict) or \"status\" not in data:\n",
    "        raise RuntimeError(f\"Estructura inesperada en la respuesta de {url}\")\n",
    "    if data.get(\"status\") != \"success\":\n",
    "        raise RuntimeError(f\"Prometheus devolvió status != success en {url}: {data}\")\n",
    "\n",
    "    return data\n"
   ]
  },
  {
   "cell_type": "code",
   "execution_count": null,
   "id": "8bce1710",
   "metadata": {},
   "outputs": [],
   "source": [
    "\n",
    "# 4) Llamada al endpoint /api/v1/targets\n",
    "# -------------------------------------------------------------\n",
    "session = build_session(PROM_USER, PROM_PASS, VERIFY_TLS)\n",
    "targets_json = get_json(session, ENDPOINT_TARGETS)\n",
    "print(\"Keys en la raíz:\", list(targets_json.keys()))\n",
    "print(\"Subclaves en 'data':\", list(targets_json.get(\"data\", {}).keys()))\n"
   ]
  },
  {
   "cell_type": "code",
   "execution_count": null,
   "id": "5f34dac8",
   "metadata": {},
   "outputs": [],
   "source": [
    "\n",
    "# 5) JSON -> DataFrame\n",
    "# -------------------------------------------------------------\n",
    "active_targets = targets_json.get(\"data\", {}).get(\"activeTargets\", [])\n",
    "if not isinstance(active_targets, list):\n",
    "    raise RuntimeError(\"Formato inesperado: 'activeTargets' no es una lista.\")\n",
    "\n",
    "df_targets = pd.DataFrame(active_targets)\n",
    "print(f\"Filas: {len(df_targets)}, Columnas: {df_targets.shape[1]}\")\n",
    "df_targets.head()\n"
   ]
  },
  {
   "cell_type": "markdown",
   "id": "f0481315",
   "metadata": {},
   "source": [
    "\n",
    "### Notas sobre el DataFrame original\n",
    "Suele incluir columnas como:\n",
    "- `discoveredLabels` *(dict)*\n",
    "- `labels` *(dict)*\n",
    "- `scrapePool`, `scrapeUrl`, `lastScrape`, etc.\n",
    "\n",
    "A continuación, **expandimos** `labels` para obtener columnas tabulares.\n"
   ]
  },
  {
   "cell_type": "code",
   "execution_count": null,
   "id": "57292367",
   "metadata": {},
   "outputs": [],
   "source": [
    "\n",
    "# 6) Expandir la columna 'labels' (dict) a columnas\n",
    "# -------------------------------------------------------------\n",
    "labels_df = df_targets[\"labels\"].apply(pd.Series)\n",
    "labels_df = labels_df.add_prefix(\"label_\")\n",
    "\n",
    "cols_keep = [\"scrapePool\", \"scrapeUrl\", \"lastScrape\", \"health\", \"lastError\"]\n",
    "final_df = pd.concat([df_targets[cols_keep], labels_df], axis=1)\n",
    "\n",
    "final_df.head(10)\n"
   ]
  },
  {
   "cell_type": "markdown",
   "id": "d9f9661d",
   "metadata": {},
   "source": [
    "\n",
    "## 7) Ejemplos de filtrado y selección\n",
    "\n",
    "Al tener las `labels` como columnas, es muy cómodo filtrar/contar.\n"
   ]
  },
  {
   "cell_type": "code",
   "execution_count": null,
   "id": "63791156",
   "metadata": {},
   "outputs": [],
   "source": [
    "\n",
    "if \"label_job\" in final_df.columns:\n",
    "    print(final_df[\"label_job\"].value_counts())\n",
    "    \n",
    "print(\"\\nTargets con health != 'up':\")\n",
    "print(final_df[final_df[\"health\"] != \"up\"][[\"scrapeUrl\", \"health\", \"lastError\"]].head(10))\n"
   ]
  },
  {
   "cell_type": "code",
   "execution_count": null,
   "id": "987e0e2d",
   "metadata": {},
   "outputs": [],
   "source": [
    "\n",
    "# 8) Guardar resultados\n",
    "# -------------------------------------------------------------\n",
    "out_csv = \"/mnt/data/prometheus_targets_labels.csv\"\n",
    "out_xlsx = \"/mnt/data/prometheus_targets_labels.xlsx\"\n",
    "\n",
    "final_df.to_csv(out_csv, index=False)\n",
    "final_df.to_excel(out_xlsx, index=False)\n",
    "\n",
    "out_csv, out_xlsx\n"
   ]
  },
  {
   "cell_type": "markdown",
   "id": "6ab30390",
   "metadata": {},
   "source": [
    "\n",
    "## 9) Buenas prácticas aplicadas (y por qué)\n",
    "\n",
    "- **Variables de entorno** para credenciales y URL → evita exponer passwords en el notebook.\n",
    "- **`requests.Session`** con **`HTTPBasicAuth`** → reuso de conexiones y autenticación consistente.\n",
    "- **Timeouts** (`DEFAULT_TIMEOUT`) → el notebook no se queda colgado si el servidor no responde.\n",
    "- **Validación de respuesta** y manejo de **excepciones** claras.\n",
    "- **PEP 8**: `snake_case` para variables/funciones, `UPPERCASE` para constantes, indentación de 4 espacios.\n",
    "- **Comentarios y docstrings** explicando el *por qué*, no solo el *qué*.\n",
    "- **Separación de responsabilidades**: helpers para red, celdas para análisis.\n",
    "- **`pd.json_normalize` / `apply(pd.Series)`** para tabular diccionarios.\n",
    "- **Export a CSV/Excel** para compartir o alimentar otros procesos.\n"
   ]
  },
  {
   "cell_type": "markdown",
   "id": "2edd6d0b",
   "metadata": {},
   "source": [
    "\n",
    "## 10) Ideas para extender en vivo (demo corta)\n",
    "\n",
    "- Añadir otro endpoint (p.ej. `/api/v1/alerts`) y repetir el patrón.\n",
    "- Medir tiempos con `%%time` y comparar `apply(pd.Series)` vs. `json_normalize`.\n",
    "- Construir una función `fetch_targets(base_url) -> DataFrame` y mapear varias sedes.\n",
    "- Graficar conteos de targets por `job` o por `entorno`.\n"
   ]
  }
 ],
 "metadata": {},
 "nbformat": 4,
 "nbformat_minor": 5
}
