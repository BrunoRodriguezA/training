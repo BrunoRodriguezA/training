{
 "cells": [
  {
   "cell_type": "markdown",
   "id": "bbaad622",
   "metadata": {},
   "source": [
    "# Refuerzo Python — Sets, FizzBuzz, Ventanas, Segundo Mayor, POO, FP, Dataclass, Regex y DataFrames (≈60–90 min)\n",
    "\n",
    "**Instrucciones**\n",
    "- Intenta resolver sin buscar al principio. Si te atascas, pasa al siguiente y vuelve luego.\n",
    "- Cada ejercicio tiene una celda de **plantilla** y una de **pruebas** con `assert`.\n",
    "- Ejecuta las pruebas para verificar. Si falla, el mensaje del `assert` te orienta.\n",
    "- Algunos ejercicios mencionan explícitamente casos borde (edge cases) que debes contemplar.\n",
    "- No hay soluciones incluidas aquí para que practiques. Si las quieres luego, pídemelas y te genero un notebook de soluciones comentadas.\n",
    "\n",
    "**Temario reforzado**\n",
    "- Conjuntos (sets) y orden preservado\n",
    "- FizzBuzz y combinación de condiciones\n",
    "- Generadores con ventanas deslizantes\n",
    "- Casos borde con valores distintos\n",
    "- POO con validaciones (`raise`) y `__repr__`\n",
    "- Funciones de orden superior (map/filter)\n",
    "- Dataclasses\n",
    "- Regex\n",
    "- Pandas DataFrames: filtrado, agregación, columnas calculadas, joins y pivots\n"
   ]
  },
  {
   "cell_type": "markdown",
   "id": "30e8e479",
   "metadata": {},
   "source": [
    "## 1) Intersección **sin duplicados** y **preservando el orden** de la primera lista\n",
    "Implementa `interseccion_ordenada(a, b)` que devuelva los elementos comunes sin repetir y en el orden en que aparecen en `a`.\n",
    "\n",
    "**Casos borde**: listas vacías, sin intersección."
   ]
  },
  {
   "cell_type": "code",
   "execution_count": 25,
   "id": "f1f2a3a2",
   "metadata": {},
   "outputs": [],
   "source": [
    "def interseccion_ordenada(a, b):\n",
    "    \"\"\"Devuelve la intersección sin duplicados, preservando el orden de aparición según 'a'.\"\"\"\n",
    "    # tu código aquí\n",
    "    lista = list(set(a) & set(b))\n",
    "    return lista\n",
    "    #return list(set(a) & set(b))\n",
    "    #pass\n"
   ]
  },
  {
   "cell_type": "code",
   "execution_count": 26,
   "id": "200315fa",
   "metadata": {},
   "outputs": [
    {
     "ename": "AssertionError",
     "evalue": "",
     "output_type": "error",
     "traceback": [
      "\u001b[31m---------------------------------------------------------------------------\u001b[39m",
      "\u001b[31mAssertionError\u001b[39m                            Traceback (most recent call last)",
      "\u001b[36mCell\u001b[39m\u001b[36m \u001b[39m\u001b[32mIn[26]\u001b[39m\u001b[32m, line 2\u001b[39m\n\u001b[32m      1\u001b[39m \u001b[38;5;66;03m# PRUEBAS\u001b[39;00m\n\u001b[32m----> \u001b[39m\u001b[32m2\u001b[39m \u001b[38;5;28;01massert\u001b[39;00m interseccion_ordenada([\u001b[32m3\u001b[39m,\u001b[32m1\u001b[39m,\u001b[32m2\u001b[39m,\u001b[32m3\u001b[39m,\u001b[32m4\u001b[39m], [\u001b[32m2\u001b[39m,\u001b[32m3\u001b[39m,\u001b[32m5\u001b[39m]) == [\u001b[32m3\u001b[39m,\u001b[32m2\u001b[39m]\n\u001b[32m      3\u001b[39m \u001b[38;5;28;01massert\u001b[39;00m interseccion_ordenada([], [\u001b[32m1\u001b[39m,\u001b[32m2\u001b[39m]) == []\n\u001b[32m      4\u001b[39m \u001b[38;5;28;01massert\u001b[39;00m interseccion_ordenada([\u001b[32m1\u001b[39m,\u001b[32m1\u001b[39m,\u001b[32m1\u001b[39m], [\u001b[32m2\u001b[39m,\u001b[32m3\u001b[39m]) == []\n",
      "\u001b[31mAssertionError\u001b[39m: "
     ]
    }
   ],
   "source": [
    "# PRUEBAS\n",
    "assert interseccion_ordenada([3,1,2,3,4], [2,3,5]) == [3,2]\n",
    "assert interseccion_ordenada([], [1,2]) == []\n",
    "assert interseccion_ordenada([1,1,1], [2,3]) == []\n",
    "assert interseccion_ordenada([1,2,2,3], [2,2,3,4]) == [2,3]\n",
    "print(\"OK 1\")"
   ]
  },
  {
   "cell_type": "markdown",
   "id": "7ceb3388",
   "metadata": {},
   "source": [
    "## 2) FizzBuzz extendido\n",
    "Devuelve una lista del 1 a `n` aplicando:\n",
    "- múltiplos de 3 → `'Fizz'`\n",
    "- múltiplos de 5 → `'Buzz'`\n",
    "- múltiplos de 7 → `'Bang'`\n",
    "- combina si se cumplen varias (p.ej. 3 y 5 → `'FizzBuzz'`, 3 y 7 → `'FizzBang'`, etc.)"
   ]
  },
  {
   "cell_type": "code",
   "execution_count": 23,
   "id": "a6e9c5e2",
   "metadata": {},
   "outputs": [],
   "source": [
    "def fizzbuzz_mod(n: int):\n",
    "    # tu código aquí\n",
    "    lista = []\n",
    "    for i in range(1,n+1):\n",
    "        valor = ''\n",
    "        \n",
    "        if i%3 == 0:\n",
    "            valor += 'Fizz'\n",
    "\n",
    "        if i%5 == 0:\n",
    "            valor += 'Buzz'\n",
    "        if i%7 == 0:\n",
    "            valor += 'Bang'\n",
    "\n",
    "        lista.append(valor)\n",
    "    return lista\n",
    "        "
   ]
  },
  {
   "cell_type": "code",
   "execution_count": 24,
   "id": "bb0e7d3a",
   "metadata": {},
   "outputs": [
    {
     "name": "stdout",
     "output_type": "stream",
     "text": [
      "OK 2\n"
     ]
    }
   ],
   "source": [
    "# PRUEBAS\n",
    "out = fizzbuzz_mod(21)\n",
    "assert out[2] == 'Fizz'       # 3\n",
    "assert out[4] == 'Buzz'       # 5\n",
    "assert out[6] == 'Bang'       # 7\n",
    "assert out[14] == 'FizzBuzz'  # 15\n",
    "assert out[20] == 'FizzBang'  # 21\n",
    "print(\"OK 2\")"
   ]
  },
  {
   "cell_type": "markdown",
   "id": "0f81713a",
   "metadata": {},
   "source": [
    "## 3) Generador de ventanas con salto\n",
    "`ventanas_salto(seq, k, salto)` debe emitir tuplas de tamaño `k` avanzando de `salto` en `salto`.\n",
    "\n",
    "**Ejemplo**: `ventanas_salto([1,2,3,4,5], k=3, salto=2) → (1,2,3), (3,4,5)`\n",
    "\n",
    "**Casos borde**: `k > len(seq)`, `salto <= 0` (debe lanzar `ValueError`)."
   ]
  },
  {
   "cell_type": "code",
   "execution_count": 29,
   "id": "0155a1b5",
   "metadata": {},
   "outputs": [],
   "source": [
    "def ventanas_salto(seq, k: int, salto: int):\n",
    "    # tu código aquí\n",
    "    try:\n",
    "        for i in range(0,len(seq)-k+1):\n",
    "            yield tuple(seq[i:i+k])\n",
    "    except:\n",
    "        raise ValueError (\"ValueError\")\n",
    "        \n",
    "\n",
    "        "
   ]
  },
  {
   "cell_type": "code",
   "execution_count": 30,
   "id": "b438c58f",
   "metadata": {},
   "outputs": [
    {
     "ename": "AssertionError",
     "evalue": "",
     "output_type": "error",
     "traceback": [
      "\u001b[31m---------------------------------------------------------------------------\u001b[39m",
      "\u001b[31mAssertionError\u001b[39m                            Traceback (most recent call last)",
      "\u001b[36mCell\u001b[39m\u001b[36m \u001b[39m\u001b[32mIn[30]\u001b[39m\u001b[32m, line 2\u001b[39m\n\u001b[32m      1\u001b[39m \u001b[38;5;66;03m# PRUEBAS\u001b[39;00m\n\u001b[32m----> \u001b[39m\u001b[32m2\u001b[39m \u001b[38;5;28;01massert\u001b[39;00m \u001b[38;5;28mlist\u001b[39m(ventanas_salto([\u001b[32m1\u001b[39m,\u001b[32m2\u001b[39m,\u001b[32m3\u001b[39m,\u001b[32m4\u001b[39m,\u001b[32m5\u001b[39m], \u001b[32m3\u001b[39m, \u001b[32m2\u001b[39m)) == [(\u001b[32m1\u001b[39m,\u001b[32m2\u001b[39m,\u001b[32m3\u001b[39m),(\u001b[32m3\u001b[39m,\u001b[32m4\u001b[39m,\u001b[32m5\u001b[39m)]\n\u001b[32m      3\u001b[39m \u001b[38;5;28;01massert\u001b[39;00m \u001b[38;5;28mlist\u001b[39m(ventanas_salto([\u001b[32m1\u001b[39m,\u001b[32m2\u001b[39m,\u001b[32m3\u001b[39m,\u001b[32m4\u001b[39m], \u001b[32m2\u001b[39m, \u001b[32m1\u001b[39m)) == [(\u001b[32m1\u001b[39m,\u001b[32m2\u001b[39m),(\u001b[32m2\u001b[39m,\u001b[32m3\u001b[39m),(\u001b[32m3\u001b[39m,\u001b[32m4\u001b[39m)]\n\u001b[32m      4\u001b[39m \u001b[38;5;28;01mtry\u001b[39;00m:\n",
      "\u001b[31mAssertionError\u001b[39m: "
     ]
    }
   ],
   "source": [
    "# PRUEBAS\n",
    "assert list(ventanas_salto([1,2,3,4,5], 3, 2)) == [(1,2,3),(3,4,5)]\n",
    "assert list(ventanas_salto([1,2,3,4], 2, 1)) == [(1,2),(2,3),(3,4)]\n",
    "try:\n",
    "    list(ventanas_salto([1,2,3], 2, 0))\n",
    "    assert False, \"Debió lanzar ValueError por salto <= 0\"\n",
    "except ValueError:\n",
    "    pass\n",
    "assert list(ventanas_salto([1,2], 3, 1)) == []\n",
    "print(\"OK 3\")"
   ]
  },
  {
   "cell_type": "markdown",
   "id": "f687a933",
   "metadata": {},
   "source": [
    "## 4) Segundo mayor **distinto** (robusto)\n",
    "Implementa `segundo_mayor(nums)` que devuelva el segundo mayor **distinto**. Si no existe, `None`.\n",
    "Procura **no** usar `sorted` para practicar el razonamiento con máximos.\n",
    "\n",
    "**Casos borde**: `[]`, `[x]`, `[x,x,x]`. "
   ]
  },
  {
   "cell_type": "code",
   "execution_count": 57,
   "id": "38017467",
   "metadata": {},
   "outputs": [],
   "source": [
    "def segundo_mayor(nums):\n",
    "    # tu código aquí\n",
    "    primero = segundo = None  # asignacion en cadena \n",
    "\n",
    "    for x in nums: \n",
    "        if primero is None or x > primero:\n",
    "            segundo = primero \n",
    "            primero = x \n",
    "        elif x != primero and (segundo is None or x > segundo):\n",
    "            segundo = x \n",
    "    #print(segundo)\n",
    "    return segundo\n",
    "                \n",
    "            "
   ]
  },
  {
   "cell_type": "code",
   "execution_count": 58,
   "id": "4cce6f91",
   "metadata": {},
   "outputs": [
    {
     "name": "stdout",
     "output_type": "stream",
     "text": [
      "3\n",
      "None\n",
      "None\n",
      "1\n",
      "5\n",
      "OK 4\n"
     ]
    }
   ],
   "source": [
    "# PRUEBAS\n",
    "assert segundo_mayor([1,2,3,4]) == 3\n",
    "assert segundo_mayor([5,5,5]) is None\n",
    "assert segundo_mayor([-1]) is None\n",
    "assert segundo_mayor([2,2,1]) == 1\n",
    "assert segundo_mayor([10, 5, 10, 3]) == 5\n",
    "print(\"OK 4\")"
   ]
  },
  {
   "cell_type": "markdown",
   "id": "ed8ff633",
   "metadata": {},
   "source": [
    "## 5) POO: `Cuenta` con historial y validaciones\n",
    "Crea una clase `Cuenta` con:\n",
    "- `saldo` inicial (por defecto 0)\n",
    "- `depositar(monto)` y `retirar(monto)`\n",
    "  - monta validaciones: montos negativos → `ValueError`, saldo insuficiente en retiros → `ValueError`\n",
    "- historial de transacciones en `self.historial` como tuplas `('deposito'|'retiro', monto)`\n",
    "- `__repr__` que muestre `saldo` y número de transacciones"
   ]
  },
  {
   "cell_type": "code",
   "execution_count": null,
   "id": "62b751f2",
   "metadata": {},
   "outputs": [],
   "source": [
    "class Cuenta:\n",
    "    # tu código aquí\n",
    "    pass\n"
   ]
  },
  {
   "cell_type": "code",
   "execution_count": null,
   "id": "f9410355",
   "metadata": {},
   "outputs": [],
   "source": [
    "# PRUEBAS\n",
    "c = Cuenta(200)\n",
    "c.depositar(50)\n",
    "c.retirar(30)\n",
    "assert c.saldo == 220\n",
    "assert c.historial == [('deposito', 50), ('retiro', 30)]\n",
    "try:\n",
    "    c.retirar(1000)\n",
    "    assert False, \"Debe lanzar ValueError por saldo insuficiente\"\n",
    "except ValueError:\n",
    "    pass\n",
    "try:\n",
    "    c.depositar(-10)\n",
    "    assert False, \"Debe lanzar ValueError por depósito negativo\"\n",
    "except ValueError:\n",
    "    pass\n",
    "r = repr(c).lower()\n",
    "assert 'saldo' in r and 'transacciones' in r\n",
    "print(\"OK 5\")"
   ]
  },
  {
   "cell_type": "markdown",
   "id": "e6437e24",
   "metadata": {},
   "source": [
    "## 6) Filtra y cubica (map/filter)\n",
    "Implementa `filtra_y_cubica(nums)` que:\n",
    "- filtre solo múltiplos de 3\n",
    "- eleve cada uno al cubo\n",
    "- devuelva una **lista**\n",
    "\n",
    "Usa `filter` y `map`. "
   ]
  },
  {
   "cell_type": "code",
   "execution_count": null,
   "id": "c14cb01d",
   "metadata": {},
   "outputs": [],
   "source": [
    "def filtra_y_cubica(nums):\n",
    "    # tu código aquí\n",
    "    pass\n"
   ]
  },
  {
   "cell_type": "code",
   "execution_count": null,
   "id": "64654e4a",
   "metadata": {},
   "outputs": [],
   "source": [
    "# PRUEBAS\n",
    "assert filtra_y_cubica([1,2,3,4,6]) == [27, 216]\n",
    "assert filtra_y_cubica([]) == []\n",
    "assert filtra_y_cubica([3]) == [27]\n",
    "print(\"OK 6\")"
   ]
  },
  {
   "cell_type": "markdown",
   "id": "25314e9b",
   "metadata": {},
   "source": [
    "## 7) Dataclass: `Rectangulo`\n",
    "Usa `@dataclass` para definir `Rectangulo(base, altura)` con métodos `area()` y `perimetro()`.\n",
    "\n",
    "**Casos borde**: base/altura negativas → `ValueError` en el constructor."
   ]
  },
  {
   "cell_type": "code",
   "execution_count": null,
   "id": "cb5e90bd",
   "metadata": {},
   "outputs": [],
   "source": [
    "# pista: from dataclasses import dataclass\n",
    "# tu código aquí\n"
   ]
  },
  {
   "cell_type": "code",
   "execution_count": null,
   "id": "3609b49e",
   "metadata": {},
   "outputs": [],
   "source": [
    "# PRUEBAS\n",
    "from dataclasses import is_dataclass\n",
    "try:\n",
    "    r = Rectangulo(3,4)\n",
    "    assert is_dataclass(r)\n",
    "    assert r.area() == 12\n",
    "    assert r.perimetro() == 14\n",
    "except NameError:\n",
    "    raise AssertionError(\"Debes definir la clase Rectangulo\")\n",
    "try:\n",
    "    Rectangulo(-1, 2)\n",
    "    assert False, \"Debe rechazar valores negativos\"\n",
    "except ValueError:\n",
    "    pass\n",
    "print(\"OK 7\")"
   ]
  },
  {
   "cell_type": "markdown",
   "id": "bed725a3",
   "metadata": {},
   "source": [
    "## 8) Regex: extrae teléfonos españoles simples\n",
    "Acepta formatos como: `+34 600 123 456`, `600-123-456`, `600123456`.\n",
    "Devuelve todas las coincidencias en una lista."
   ]
  },
  {
   "cell_type": "code",
   "execution_count": null,
   "id": "09fc7893",
   "metadata": {},
   "outputs": [],
   "source": [
    "import re\n",
    "\n",
    "def extrae_telefonos(texto: str):\n",
    "    # tu código aquí\n",
    "    pass\n"
   ]
  },
  {
   "cell_type": "code",
   "execution_count": null,
   "id": "e6a268ab",
   "metadata": {},
   "outputs": [],
   "source": [
    "# PRUEBAS\n",
    "txt = \"Mi número es 600-123-456, el de Ana es +34 600 123 456 y este no: 123-45\"\n",
    "res = extrae_telefonos(txt)\n",
    "assert '600-123-456' in res and '+34 600 123 456' in res\n",
    "print(\"OK 8\")"
   ]
  },
  {
   "cell_type": "markdown",
   "id": "b6afa765",
   "metadata": {},
   "source": [
    "## 9) Pandas: filtra y agrupa\n",
    "Dado un DataFrame de empleados, implementa `salario_medio_por_departamento(df)` que:\n",
    "- filtre empleados con sueldo > 3000\n",
    "- agrupe por `departamento`\n",
    "- devuelva una **Serie** con el sueldo **medio** por departamento (índice = departamento)\n",
    "\n",
    "**Nota**: ordena el índice para pruebas deterministas."
   ]
  },
  {
   "cell_type": "code",
   "execution_count": null,
   "id": "a6115c7b",
   "metadata": {},
   "outputs": [],
   "source": [
    "import pandas as pd\n",
    "\n",
    "def salario_medio_por_departamento(df: pd.DataFrame) -> pd.Series:\n",
    "    # tu código aquí\n",
    "    pass\n"
   ]
  },
  {
   "cell_type": "code",
   "execution_count": null,
   "id": "e8259ee8",
   "metadata": {},
   "outputs": [],
   "source": [
    "# PRUEBAS\n",
    "df = pd.DataFrame({\n",
    "    \"nombre\": [\"Ana\",\"Luis\",\"Juan\",\"Marta\",\"Pedro\"],\n",
    "    \"departamento\": [\"IT\",\"IT\",\"Ventas\",\"Ventas\",\"IT\"],\n",
    "    \"sueldo\": [3500, 2800, 4000, 2500, 5000]\n",
    "})\n",
    "ser = salario_medio_por_departamento(df)\n",
    "# Debe contener IT y Ventas, pero solo se filtran >3000 → IT: (3500+5000)/2=4250, Ventas: 4000\n",
    "assert round(ser.loc['IT'],2) == 4250.00\n",
    "assert round(ser.loc['Ventas'],2) == 4000.00\n",
    "print(\"OK 9\")"
   ]
  },
  {
   "cell_type": "markdown",
   "id": "59b71e05",
   "metadata": {},
   "source": [
    "## 10) Pandas: columna calculada IVA y total\n",
    "Implementa `aplica_iva(df, tasa=0.21)` que añada las columnas `iva` y `total_con_iva`.\n",
    "Devuelve el mismo DataFrame (o una copia), con valores numéricos."
   ]
  },
  {
   "cell_type": "code",
   "execution_count": null,
   "id": "3ef9a49d",
   "metadata": {},
   "outputs": [],
   "source": [
    "def aplica_iva(df: pd.DataFrame, tasa: float = 0.21) -> pd.DataFrame:\n",
    "    # tu código aquí\n",
    "    pass\n"
   ]
  },
  {
   "cell_type": "code",
   "execution_count": null,
   "id": "274fbc1e",
   "metadata": {},
   "outputs": [],
   "source": [
    "# PRUEBAS\n",
    "df2 = pd.DataFrame({\"producto\": [\"A\",\"B\",\"C\"], \"precio\": [100, 200, 300]})\n",
    "out = aplica_iva(df2.copy(), 0.21)\n",
    "assert 'iva' in out.columns and 'total_con_iva' in out.columns\n",
    "assert round(out.loc[0, 'iva'], 2) == 21.00\n",
    "assert round(out.loc[2, 'total_con_iva'], 2) == 363.00\n",
    "print(\"OK 10\")"
   ]
  },
  {
   "cell_type": "markdown",
   "id": "f30cf274",
   "metadata": {},
   "source": [
    "## 11) Pandas: join y facturación por categoría\n",
    "Con dos DataFrames:\n",
    "- `productos(id, nombre, categoria, precio)`\n",
    "- `pedidos(id_pedido, id_producto, unidades)`\n",
    "\n",
    "Implementa `ingresos_por_categoria(productos, pedidos)` que calcule la facturación por categoría (`sum(unidades * precio)`). Devuelve una **Serie** indexada por `categoria`."
   ]
  },
  {
   "cell_type": "code",
   "execution_count": null,
   "id": "a532790e",
   "metadata": {},
   "outputs": [],
   "source": [
    "def ingresos_por_categoria(productos: pd.DataFrame, pedidos: pd.DataFrame) -> pd.Series:\n",
    "    # tu código aquí\n",
    "    pass\n"
   ]
  },
  {
   "cell_type": "code",
   "execution_count": null,
   "id": "48b65479",
   "metadata": {},
   "outputs": [],
   "source": [
    "# PRUEBAS\n",
    "productos = pd.DataFrame({\n",
    "    'id': [1,2,3,4],\n",
    "    'nombre': ['A','B','C','D'],\n",
    "    'categoria': ['X','X','Y','Y'],\n",
    "    'precio': [10.0, 20.0, 5.0, 8.0]\n",
    "})\n",
    "pedidos = pd.DataFrame({\n",
    "    'id_pedido': [100,101,102,103,104],\n",
    "    'id_producto': [1,2,2,3,4],\n",
    "    'unidades': [3,1,2,10,5]\n",
    "})\n",
    "ser = ingresos_por_categoria(productos, pedidos)\n",
    "# X: (id1:3*10) + (id2:1*20 + 2*20) = 30 + 60 = 90\n",
    "# Y: (id3:10*5) + (id4:5*8) = 50 + 40 = 90\n",
    "assert round(ser.loc['X'],2) == 90.0 and round(ser.loc['Y'],2) == 90.0\n",
    "print(\"OK 11\")"
   ]
  },
  {
   "cell_type": "markdown",
   "id": "faf55d34",
   "metadata": {},
   "source": [
    "## 12) Pandas: tabla dinámica de unidades\n",
    "Dado un DataFrame `ventas` con columnas `fecha`, `categoria`, `unidades`, crea una función `pivot_unidades(ventas)` que devuelva una tabla con `index=fecha`, `columns=categoria`, `values=suma de unidades`, rellenando ausencias con 0 y ordenando por fecha."
   ]
  },
  {
   "cell_type": "code",
   "execution_count": null,
   "id": "da589ea6",
   "metadata": {},
   "outputs": [],
   "source": [
    "def pivot_unidades(ventas: pd.DataFrame) -> pd.DataFrame:\n",
    "    # tu código aquí\n",
    "    pass\n"
   ]
  },
  {
   "cell_type": "code",
   "execution_count": null,
   "id": "0406a634",
   "metadata": {},
   "outputs": [],
   "source": [
    "# PRUEBAS\n",
    "ventas = pd.DataFrame({\n",
    "    'fecha': ['2025-01-01','2025-01-01','2025-01-02','2025-01-02','2025-01-03'],\n",
    "    'categoria': ['X','Y','X','Y','X'],\n",
    "    'unidades': [5,2,3,4,1]\n",
    "})\n",
    "pt = pivot_unidades(ventas)\n",
    "assert list(pt.index) == ['2025-01-01','2025-01-02','2025-01-03']\n",
    "assert 'X' in pt.columns and 'Y' in pt.columns\n",
    "assert pt.loc['2025-01-01','X'] == 5 and pt.loc['2025-01-01','Y'] == 2\n",
    "assert pt.loc['2025-01-03','Y'] == 0\n",
    "print(\"OK 12\")"
   ]
  }
 ],
 "metadata": {
  "kernelspec": {
   "display_name": "Python 3 (ipykernel)",
   "language": "python",
   "name": "python3"
  },
  "language_info": {
   "codemirror_mode": {
    "name": "ipython",
    "version": 3
   },
   "file_extension": ".py",
   "mimetype": "text/x-python",
   "name": "python",
   "nbconvert_exporter": "python",
   "pygments_lexer": "ipython3",
   "version": "3.13.5"
  }
 },
 "nbformat": 4,
 "nbformat_minor": 5
}
