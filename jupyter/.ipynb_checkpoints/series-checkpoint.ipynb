{
 "cells": [
  {
   "cell_type": "code",
   "execution_count": 17,
   "id": "0bb870a7-f21d-4dae-aec4-ac16349e7731",
   "metadata": {},
   "outputs": [
    {
     "name": "stdout",
     "output_type": "stream",
     "text": [
      "0                      a\n",
      "1                      2\n",
      "2                    1.2\n",
      "3                   True\n",
      "4                 [1, 2]\n",
      "5               {'a': 1}\n",
      "6    2025-08-16 00:00:00\n",
      "dtype: object\n"
     ]
    }
   ],
   "source": [
    "import pandas as pd \n",
    "\n",
    "lista = ['a',2,1.2,True, [1,2], {'a':1}, pd.Timestamp('2025-08-16')]\n",
    "\n",
    "s = pd.Series(data=lista)\n",
    "print(s)\n"
   ]
  },
  {
   "cell_type": "code",
   "execution_count": 18,
   "id": "4df64ef6-54ba-4d1f-b242-e1257d41cc34",
   "metadata": {},
   "outputs": [
    {
     "name": "stdout",
     "output_type": "stream",
     "text": [
      "0    a\n",
      "dtype: object\n",
      "1    2\n",
      "dtype: object\n"
     ]
    }
   ],
   "source": [
    "onlystr = s[s.map(lambda x: isinstance(x,str))]\n",
    "onlyint = s[s.map(lambda x: isinstance(x,int) and not isinstance(x, bool))]\n",
    "\n",
    "print(onlystr)\n",
    "print(onlyint)\n",
    "\n",
    "def filter_series_by_type(series: pd.Series, typ):\n",
    "    return series[series.map(lambda x: isinstance(x,typ))]\n"
   ]
  },
  {
   "cell_type": "code",
   "execution_count": 31,
   "id": "211c9198-c028-489f-864a-cebcb8e6db60",
   "metadata": {},
   "outputs": [
    {
     "name": "stdout",
     "output_type": "stream",
     "text": [
      "1       2\n",
      "3    True\n",
      "dtype: object\n",
      "0    a\n",
      "dtype: object\n",
      "6    2025-08-16 00:00:00\n",
      "dtype: object\n"
     ]
    }
   ],
   "source": [
    "#examples \n",
    "print(filter_series_by_type(s,int))\n",
    "print(filter_series_by_type(s,str))\n",
    "print(filter_series_by_type(s,pd.Timestamp))"
   ]
  },
  {
   "cell_type": "code",
   "execution_count": null,
   "id": "7195abf8-ed79-478b-83d2-4b7e29fb5831",
   "metadata": {},
   "outputs": [],
   "source": []
  }
 ],
 "metadata": {
  "kernelspec": {
   "display_name": "Python 3 (ipykernel)",
   "language": "python",
   "name": "python3"
  },
  "language_info": {
   "codemirror_mode": {
    "name": "ipython",
    "version": 3
   },
   "file_extension": ".py",
   "mimetype": "text/x-python",
   "name": "python",
   "nbconvert_exporter": "python",
   "pygments_lexer": "ipython3",
   "version": "3.12.10"
  }
 },
 "nbformat": 4,
 "nbformat_minor": 5
}
